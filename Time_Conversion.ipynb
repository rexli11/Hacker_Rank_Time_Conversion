{
 "cells": [
  {
   "cell_type": "code",
   "execution_count": 9,
   "metadata": {},
   "outputs": [
    {
     "name": "stdout",
     "output_type": "stream",
     "text": [
      "00:00:00\n"
     ]
    }
   ],
   "source": [
    "'''\n",
    "題目 : 將12小時制轉換為24小時\n",
    "解題方向 : 小時判斷早上或晚上，int與str合併問題，凌晨12時要變更為00\n",
    "'''\n",
    "\n",
    "s = \"12:00:00AM\"\n",
    "\n",
    "list_s = list(s)\n",
    "\n",
    "zero = str(\"0\")\n",
    "hour = int(list_s[0] + list_s[1])\n",
    "minuue = list_s[3] + list_s[4]\n",
    "second = list_s[6] + list_s[7]\n",
    "symbol = list_s[2]\n",
    "hour_system = list_s[8] + list_s[9]\n",
    "\n",
    "if hour_system[0] == \"P\" : \n",
    "    if hour == 12 : \n",
    "        change_hours = hour\n",
    "    elif hour < 12 : \n",
    "        change_hours = hour + 12\n",
    "    hour_type = str(change_hours)\n",
    "elif hour_system[0] == \"A\": \n",
    "    change_hours = hour\n",
    "    if change_hours <= 9 : \n",
    "        change_hours = zero + list_s[1]\n",
    "    elif change_hours == 12 : \n",
    "        change_hours = zero + zero\n",
    "    hour_type = str(change_hours)\n",
    "else : \n",
    "    print(\"wrong time\")\n",
    "    \n",
    "print(hour_type + symbol + minuue + symbol + second)\n"
   ]
  }
 ],
 "metadata": {
  "interpreter": {
   "hash": "b3ba2566441a7c06988d0923437866b63cedc61552a5af99d1f4fb67d367b25f"
  },
  "kernelspec": {
   "display_name": "Python 3.8.8 ('base')",
   "language": "python",
   "name": "python3"
  },
  "language_info": {
   "codemirror_mode": {
    "name": "ipython",
    "version": 3
   },
   "file_extension": ".py",
   "mimetype": "text/x-python",
   "name": "python",
   "nbconvert_exporter": "python",
   "pygments_lexer": "ipython3",
   "version": "3.8.8"
  },
  "orig_nbformat": 4
 },
 "nbformat": 4,
 "nbformat_minor": 2
}
